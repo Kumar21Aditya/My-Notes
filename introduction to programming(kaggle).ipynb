{
 "cells": [
  {
   "cell_type": "markdown",
   "id": "835e8174",
   "metadata": {},
   "source": [
    "# Arithmetic and Variables"
   ]
  },
  {
   "cell_type": "code",
   "execution_count": 1,
   "id": "fd4b5c7c",
   "metadata": {},
   "outputs": [
    {
     "name": "stdout",
     "output_type": "stream",
     "text": [
      "My name is Aditya\n"
     ]
    }
   ],
   "source": [
    "print(\"My name is Aditya\")"
   ]
  },
  {
   "cell_type": "code",
   "execution_count": 3,
   "id": "fea331e4",
   "metadata": {},
   "outputs": [
    {
     "name": "stdout",
     "output_type": "stream",
     "text": [
      "7\n",
      "4\n",
      "15\n",
      "2.0\n",
      "3\n",
      "4\n"
     ]
    }
   ],
   "source": [
    "#We can also print the value of some arithmetic operation (such as addition, subtraction, multiplication, or division).\n",
    "print(3+4)#addition\n",
    "print(9-5)#substraction\n",
    "print(3*5)#Multiplication\n",
    "print(10/5)#division\n",
    "print(23//6)#floor division\n",
    "print(2**2)#exponent"
   ]
  },
  {
   "cell_type": "code",
   "execution_count": 4,
   "id": "fcb4b14c",
   "metadata": {},
   "outputs": [
    {
     "name": "stdout",
     "output_type": "stream",
     "text": [
      "196.0\n"
     ]
    }
   ],
   "source": [
    "#In general, Python follows the PEMDAS rule when deciding the order of operations\n",
    "print(((1 + 3) * (9 - 2) / 2) ** 2)"
   ]
  },
  {
   "cell_type": "code",
   "execution_count": 5,
   "id": "c7c8a6d0",
   "metadata": {},
   "outputs": [
    {
     "name": "stdout",
     "output_type": "stream",
     "text": [
      "6\n"
     ]
    }
   ],
   "source": [
    "#We use comments to annotate what code is doing. They help other people to understand your code, and they can also be helpful if you haven't looked at your own code in a while\n",
    " #Multiply 3 by 2\n",
    "print(3 * 2)"
   ]
  },
  {
   "cell_type": "markdown",
   "id": "273831a4",
   "metadata": {},
   "source": [
    "RULES FOR CREATING A VARIABLE\n",
    ".They can't have spaces (e.g., test var is not allowed)\n",
    ".They can only include letters, numbers, and underscores (e.g., test_var! is not allowed)\n",
    ".They have to start with a letter or underscore (e.g., 1_var is not allowed)"
   ]
  },
  {
   "cell_type": "code",
   "execution_count": 6,
   "id": "37cf585c",
   "metadata": {},
   "outputs": [
    {
     "name": "stdout",
     "output_type": "stream",
     "text": [
      "9\n"
     ]
    }
   ],
   "source": [
    "#Creating variables\n",
    "## Create a variable called variable and give it a value of 4+5\n",
    "variable = 4 + 5\n",
    "\n",
    "# Print the value of test_var\n",
    "print(variable)"
   ]
  },
  {
   "cell_type": "code",
   "execution_count": 7,
   "id": "c4ffdff6",
   "metadata": {},
   "outputs": [
    {
     "name": "stdout",
     "output_type": "stream",
     "text": [
      "3\n",
      "100\n"
     ]
    }
   ],
   "source": [
    "#Manipulating variables\n",
    "# Set the value of a new variable to 3\n",
    "newvar = 3\n",
    "\n",
    "# Print the value assigned to my_var\n",
    "print(newvar)\n",
    "\n",
    "# Change the value of the variable to 100\n",
    "newvar = 100\n",
    "\n",
    "# Print the new value assigned to my_var\n",
    "print(newvar)"
   ]
  },
  {
   "cell_type": "code",
   "execution_count": 8,
   "id": "8a7bea51",
   "metadata": {},
   "outputs": [
    {
     "name": "stdout",
     "output_type": "stream",
     "text": [
      "126144000\n"
     ]
    }
   ],
   "source": [
    "#Using multiple variables\n",
    "#It's common for code to use multiple variables. This is especially useful when we have to do a long calculation with multiple inputs.\n",
    "# variables creation\n",
    "num_years = 4\n",
    "days_per_year = 365 \n",
    "hours_per_day = 24\n",
    "mins_per_hour = 60\n",
    "secs_per_min = 60\n",
    "\n",
    "# Calculate number of seconds in four years\n",
    "total_secs = secs_per_min * mins_per_hour * hours_per_day * days_per_year * num_years\n",
    "print(total_secs)"
   ]
  },
  {
   "cell_type": "markdown",
   "id": "27de97a1",
   "metadata": {},
   "source": [
    "# Function"
   ]
  },
  {
   "cell_type": "markdown",
   "id": "4a23253c",
   "metadata": {},
   "source": [
    "A function is a block of code designed to perform a specific task"
   ]
  },
  {
   "cell_type": "code",
   "execution_count": 10,
   "id": "e450481f",
   "metadata": {},
   "outputs": [
    {
     "data": {
      "text/plain": [
       "8"
      ]
     },
     "execution_count": 10,
     "metadata": {},
     "output_type": "execute_result"
    }
   ],
   "source": [
    "# Define the function\n",
    "def add(input_var):\n",
    "    output_var = input_var + 3\n",
    "    return output_var\n",
    "add(5)#call the function"
   ]
  },
  {
   "cell_type": "markdown",
   "id": "f2771a34",
   "metadata": {},
   "source": [
    "Every function is composed of two pieces: a header and body.\n",
    "HEADER\n",
    ">The function header defines the name of the function and its argument(s).\n",
    ">Every function header begins with def, which tells Python that we are about to define a function.\n",
    "In the example, the function name is add.\n",
    ">In the example, the argument is input_var\n",
    "\n",
    "BODY\n",
    ">The function body specifies the work that the function does.\n",
    ">It takes the argument as input, which in the example is input_var.\n",
    ">The function creates a new variable output_var with the calculation output_var = input_var + 3.\n",
    ">Then, the final line of code, called the return statement, just returns the value in output_var as the function's output."
   ]
  },
  {
   "cell_type": "code",
   "execution_count": 13,
   "id": "4dbff392",
   "metadata": {},
   "outputs": [
    {
     "name": "stdout",
     "output_type": "stream",
     "text": [
      "528.0\n"
     ]
    }
   ],
   "source": [
    "def pay(num):\n",
    "    # Pre-tax pay, based on receiving $15/hour\n",
    "    pay_pretax = num * 15\n",
    "    # After-tax pay, based on being in 12% tax bracket\n",
    "    pay_aftertax = pay_pretax * (1 - .12)\n",
    "    return pay_aftertax\n",
    "# Calculate pay based on working 40 hours\n",
    "pay_fulltime = pay(40)\n",
    "print(pay_fulltime)"
   ]
  },
  {
   "cell_type": "code",
   "execution_count": 14,
   "id": "437c4b0b",
   "metadata": {},
   "outputs": [
    {
     "name": "stdout",
     "output_type": "stream",
     "text": [
      "21\n",
      "-58\n"
     ]
    }
   ],
   "source": [
    "#Functions with multiple arguments\n",
    "def add(a,b,c):\n",
    "    d=a+b+c\n",
    "    print(d)\n",
    "    x=a-b*c\n",
    "    print(x)\n",
    "add(5,7,9)    "
   ]
  },
  {
   "cell_type": "code",
   "execution_count": 15,
   "id": "5eef91bf",
   "metadata": {},
   "outputs": [
    {
     "name": "stdout",
     "output_type": "stream",
     "text": [
      "hello world\n",
      "i am a data science student\n"
     ]
    }
   ],
   "source": [
    "#Functions with no arguments\n",
    "def hello():\n",
    "    print(\"hello world\")\n",
    "    print(\"i am a data science student\")\n",
    "hello()    \n",
    "    \n"
   ]
  },
  {
   "cell_type": "markdown",
   "id": "0150091d",
   "metadata": {},
   "source": [
    "# datatypes"
   ]
  },
  {
   "cell_type": "code",
   "execution_count": 16,
   "id": "625d6c3e",
   "metadata": {},
   "outputs": [
    {
     "name": "stdout",
     "output_type": "stream",
     "text": [
      "456\n",
      "<class 'int'>\n"
     ]
    }
   ],
   "source": [
    "#ntegers\n",
    "#Integers are numbers without any fractional part and can be positive (1, 2, 3, ...), negative (-1, -2, -3, ...), or zero (0).\n",
    "x = 456\n",
    "print(x)\n",
    "print(type(x))"
   ]
  },
  {
   "cell_type": "code",
   "execution_count": 17,
   "id": "270a744f",
   "metadata": {},
   "outputs": [
    {
     "name": "stdout",
     "output_type": "stream",
     "text": [
      "3.1415944\n",
      "<class 'float'>\n"
     ]
    }
   ],
   "source": [
    "#Floats\n",
    "#Floats are numbers with fractional parts. They can have many numbers after decimal.\n",
    "floatvalue= 3.1415944\n",
    "print(floatvalue)\n",
    "print(type(floatvalue))"
   ]
  },
  {
   "cell_type": "code",
   "execution_count": 20,
   "id": "d63d0092",
   "metadata": {},
   "outputs": [
    {
     "name": "stdout",
     "output_type": "stream",
     "text": [
      "456.67891\n",
      "<class 'float'>\n"
     ]
    }
   ],
   "source": [
    "#Round Function\n",
    "# Round to 5 decimal places\n",
    "roundfunction=456.678908848784773873\n",
    "roundfunction = round(roundfunction, 5)\n",
    "print(roundfunction)\n",
    "print(type(roundfunction))"
   ]
  },
  {
   "cell_type": "code",
   "execution_count": 21,
   "id": "929f5fc4",
   "metadata": {},
   "outputs": [
    {
     "name": "stdout",
     "output_type": "stream",
     "text": [
      "True\n",
      "<class 'bool'>\n"
     ]
    }
   ],
   "source": [
    "#Booleans\n",
    "#Booleans represent one of two values: True or False. In the code cell below, z_one is set to a boolean with value True\n",
    "adi = True\n",
    "print(adi)\n",
    "print(type(adi))"
   ]
  },
  {
   "cell_type": "code",
   "execution_count": 22,
   "id": "58f7ba21",
   "metadata": {},
   "outputs": [
    {
     "name": "stdout",
     "output_type": "stream",
     "text": [
      "True\n",
      "<class 'bool'>\n"
     ]
    }
   ],
   "source": [
    "compare = (1 < 2)\n",
    "print(compare)\n",
    "print(type(compare))"
   ]
  },
  {
   "cell_type": "code",
   "execution_count": 23,
   "id": "a3eccd5a",
   "metadata": {},
   "outputs": [
    {
     "name": "stdout",
     "output_type": "stream",
     "text": [
      "Hello, Python!\n",
      "<class 'str'>\n"
     ]
    }
   ],
   "source": [
    "#Strings\n",
    "#The string data type is a collection of characters (like alphabet letters, punctuation, numerical digits, or symbols) contained in quotation marks. Strings are commonly used to represent text.\n",
    "w = \"Hello, Python!\"\n",
    "print(w)\n",
    "print(type(w))"
   ]
  },
  {
   "cell_type": "code",
   "execution_count": 24,
   "id": "c3963a75",
   "metadata": {},
   "outputs": [
    {
     "name": "stdout",
     "output_type": "stream",
     "text": [
      "<class 'str'>\n",
      "2\n"
     ]
    }
   ],
   "source": [
    "shortest_string = \"df\"\n",
    "print(type(shortest_string))\n",
    "print(len(shortest_string))#finding length using  length function"
   ]
  },
  {
   "cell_type": "code",
   "execution_count": 25,
   "id": "18bb769e",
   "metadata": {},
   "outputs": [
    {
     "name": "stdout",
     "output_type": "stream",
     "text": [
      "Kumar aditya\n",
      "<class 'str'>\n"
     ]
    }
   ],
   "source": [
    "#concatenation of string\n",
    "#Just like you can add two numbers (floats or integers), you can also add two strings. It results in a longer string that combines the two original strings by concatenating them.\n",
    "new_string = \"Kumar \" + \"aditya\"\n",
    "print(new_string)\n",
    "print(type(new_string))"
   ]
  },
  {
   "cell_type": "code",
   "execution_count": 26,
   "id": "3da0c726",
   "metadata": {},
   "outputs": [
    {
     "name": "stdout",
     "output_type": "stream",
     "text": [
      "GIET GIET GIET \n",
      "<class 'str'>\n"
     ]
    }
   ],
   "source": [
    "newest_string = \"GIET \" * 3\n",
    "print(newest_string)\n",
    "print(type(newest_string))"
   ]
  },
  {
   "cell_type": "markdown",
   "id": "468442f3",
   "metadata": {},
   "source": [
    "conditional statement"
   ]
  },
  {
   "cell_type": "code",
   "execution_count": 1,
   "id": "b048e071",
   "metadata": {},
   "outputs": [
    {
     "name": "stdout",
     "output_type": "stream",
     "text": [
      "False\n"
     ]
    }
   ],
   "source": [
    "print(2 > 3)"
   ]
  },
  {
   "cell_type": "code",
   "execution_count": 2,
   "id": "691500ff",
   "metadata": {},
   "outputs": [
    {
     "name": "stdout",
     "output_type": "stream",
     "text": [
      "False\n",
      "True\n"
     ]
    }
   ],
   "source": [
    "var_one = 1\n",
    "var_two = 2\n",
    "\n",
    "print(var_one < 1)\n",
    "print(var_two >= var_one)"
   ]
  },
  {
   "cell_type": "markdown",
   "id": "3f56d00b",
   "metadata": {},
   "source": [
    "Symbol\tMeaning\n",
    "==\tequals\n",
    "!=\tdoes not equal\n",
    "<\tless than\n",
    "<=\tless than or equal to\n",
    ">\tgreater than\n",
    ">=\tgreater than or equal to"
   ]
  },
  {
   "cell_type": "code",
   "execution_count": 4,
   "id": "b464131b",
   "metadata": {},
   "outputs": [
    {
     "name": "stdout",
     "output_type": "stream",
     "text": [
      "Normal temperature.\n",
      "Fever!\n"
     ]
    }
   ],
   "source": [
    "def evaluate_temp(temp):\n",
    "    # Set an initial message\n",
    "    message = \"Normal temperature.\"\n",
    "    # Update value of message only if temperature greater than 38\n",
    "    if temp > 38:\n",
    "        message = \"Fever!\"\n",
    "    return message\n",
    "print(evaluate_temp(37))\n",
    "print(evaluate_temp(39))"
   ]
  },
  {
   "cell_type": "code",
   "execution_count": 5,
   "id": "d31458d8",
   "metadata": {},
   "outputs": [
    {
     "name": "stdout",
     "output_type": "stream",
     "text": [
      "fever\n"
     ]
    }
   ],
   "source": [
    "def temp_with_else(temp):\n",
    "    if temp>38:\n",
    "        print(\"fever\")\n",
    "    else:\n",
    "        print(\"normal temp\")\n",
    "temp_with_else(56)        "
   ]
  },
  {
   "cell_type": "code",
   "execution_count": 7,
   "id": "52f17e6a",
   "metadata": {},
   "outputs": [
    {
     "name": "stdout",
     "output_type": "stream",
     "text": [
      "Normal temperature.\n",
      "Low temperature.\n"
     ]
    }
   ],
   "source": [
    "def evaluate_temp_with_elif(temp):\n",
    "    if temp > 38:\n",
    "        message = \"Fever!\"\n",
    "    elif temp > 35:\n",
    "        message = \"Normal temperature.\"\n",
    "    else:\n",
    "        message = \"Low temperature.\"\n",
    "    return message\n",
    "print(evaluate_temp_with_elif(36))\n",
    "print(evaluate_temp_with_elif(34))"
   ]
  },
  {
   "cell_type": "code",
   "execution_count": 8,
   "id": "e31a0d7b",
   "metadata": {},
   "outputs": [
    {
     "name": "stdout",
     "output_type": "stream",
     "text": [
      "2250.0\n",
      "4500.0\n"
     ]
    }
   ],
   "source": [
    "def get_taxes(earnings):\n",
    "    if earnings < 12000:\n",
    "        tax_owed = .25 * earnings\n",
    "    else:\n",
    "        tax_owed = .30 * earnings\n",
    "    return tax_owed\n",
    "ana_taxes = get_taxes(9000)\n",
    "bob_taxes = get_taxes(15000)\n",
    "\n",
    "print(ana_taxes)\n",
    "print(bob_taxes)"
   ]
  },
  {
   "cell_type": "code",
   "execution_count": 9,
   "id": "ff62ba34",
   "metadata": {},
   "outputs": [
    {
     "data": {
      "text/plain": [
       "3.75"
      ]
     },
     "execution_count": 9,
     "metadata": {},
     "output_type": "execute_result"
    }
   ],
   "source": [
    "def get_dose(weight):\n",
    "    # Dosage is 1.25 ml for anyone under 5.2 kg\n",
    "    if weight < 5.2:\n",
    "        dose = 1.25\n",
    "    elif weight < 7.9:\n",
    "        dose = 2.5\n",
    "    elif weight < 10.4:\n",
    "        dose = 3.75\n",
    "    elif weight < 15.9:\n",
    "        dose = 5\n",
    "    elif weight < 21.2:\n",
    "        dose = 7.5\n",
    "    # Dosage is 10 ml for anyone 21.2 kg or over\n",
    "    else:\n",
    "        dose = 10\n",
    "    return dose\n",
    "get_dose(7.9)"
   ]
  },
  {
   "cell_type": "markdown",
   "id": "7665be67",
   "metadata": {},
   "source": [
    "introduction to list"
   ]
  },
  {
   "cell_type": "code",
   "execution_count": 10,
   "id": "bc5fd2b9",
   "metadata": {},
   "outputs": [
    {
     "name": "stdout",
     "output_type": "stream",
     "text": [
      "<class 'list'>\n",
      "['pink primrose', 'hard-leaved pocket orchid', 'canterbury bells', 'sweet pea', 'english marigold', 'tiger lily', 'moon orchid', 'bird of paradise', 'monkshood', 'globe thistle']\n"
     ]
    }
   ],
   "source": [
    "flowers_list = [\"pink primrose\", \"hard-leaved pocket orchid\", \"canterbury bells\", \"sweet pea\", \"english marigold\", \"tiger lily\", \"moon orchid\", \"bird of paradise\", \"monkshood\", \"globe thistle\"]\n",
    "\n",
    "print(type(flowers_list))\n",
    "print(flowers_list)"
   ]
  },
  {
   "cell_type": "code",
   "execution_count": 11,
   "id": "9973c485",
   "metadata": {},
   "outputs": [
    {
     "name": "stdout",
     "output_type": "stream",
     "text": [
      "10\n"
     ]
    }
   ],
   "source": [
    "#print the length of the list\n",
    "print(len(flowers_list))"
   ]
  },
  {
   "cell_type": "markdown",
   "id": "641bd3fc",
   "metadata": {},
   "source": [
    "Indexing\n",
    "We can refer to any item in the list according to its position in the list (first, second, third, etc). This is called indexing.\n",
    "\n",
    "Note that Python uses zero-based indexing, which means that:\n",
    "\n",
    "to pull the first entry in the list, you use 0,\n",
    "to pull the second entry in the list, you use 1, and\n",
    "to pull the final entry in the list, you use one less than the length of the list."
   ]
  },
  {
   "cell_type": "code",
   "execution_count": 12,
   "id": "fbb5d083",
   "metadata": {},
   "outputs": [
    {
     "name": "stdout",
     "output_type": "stream",
     "text": [
      "First entry: pink primrose\n",
      "Second entry: hard-leaved pocket orchid\n",
      "Last entry: globe thistle\n"
     ]
    }
   ],
   "source": [
    "print(\"First entry:\", flowers_list[0])\n",
    "print(\"Second entry:\", flowers_list[1])\n",
    "\n",
    "# The list has length ten, so we refer to final entry with 9\n",
    "print(\"Last entry:\", flowers_list[9])"
   ]
  },
  {
   "cell_type": "markdown",
   "id": "4d3dbf96",
   "metadata": {},
   "source": [
    "Slicing\n",
    "You can also pull a segment of a list (for instance, the first three entries or the last two entries). This is called slicing. For instance:\n",
    "\n",
    "to pull the first x entries, you use [:x], and\n",
    "to pull the last y entries, you use [-y:]."
   ]
  },
  {
   "cell_type": "code",
   "execution_count": 13,
   "id": "5473baeb",
   "metadata": {},
   "outputs": [
    {
     "name": "stdout",
     "output_type": "stream",
     "text": [
      "First three entries: ['pink primrose', 'hard-leaved pocket orchid', 'canterbury bells']\n",
      "Final two entries: ['monkshood', 'globe thistle']\n"
     ]
    }
   ],
   "source": [
    "print(\"First three entries:\", flowers_list[:3])\n",
    "print(\"Final two entries:\", flowers_list[-2:])"
   ]
  },
  {
   "cell_type": "markdown",
   "id": "c04034ee",
   "metadata": {},
   "source": [
    "Removing items\n",
    "Remove an item from a list with .remove(), and put the item you would like to remove in parentheses."
   ]
  },
  {
   "cell_type": "code",
   "execution_count": 14,
   "id": "8250d36e",
   "metadata": {},
   "outputs": [
    {
     "name": "stdout",
     "output_type": "stream",
     "text": [
      "['pink primrose', 'hard-leaved pocket orchid', 'canterbury bells', 'sweet pea', 'english marigold', 'tiger lily', 'moon orchid', 'bird of paradise', 'monkshood']\n"
     ]
    }
   ],
   "source": [
    "flowers_list.remove(\"globe thistle\")\n",
    "print(flowers_list)"
   ]
  },
  {
   "cell_type": "markdown",
   "id": "0f7b81b0",
   "metadata": {},
   "source": [
    "Adding items\n",
    "Add an item to a list with .append(), and put the item you would like to add in parentheses."
   ]
  },
  {
   "cell_type": "code",
   "execution_count": 15,
   "id": "4a9c4a3c",
   "metadata": {},
   "outputs": [
    {
     "name": "stdout",
     "output_type": "stream",
     "text": [
      "['pink primrose', 'hard-leaved pocket orchid', 'canterbury bells', 'sweet pea', 'english marigold', 'tiger lily', 'moon orchid', 'bird of paradise', 'monkshood', 'snapdragon']\n"
     ]
    }
   ],
   "source": [
    "flowers_list.append(\"snapdragon\")\n",
    "print(flowers_list)"
   ]
  },
  {
   "cell_type": "code",
   "execution_count": 18,
   "id": "a544fcf2",
   "metadata": {},
   "outputs": [
    {
     "name": "stdout",
     "output_type": "stream",
     "text": [
      "Length of the list: 7\n",
      "Entry at index 2: 172\n",
      "Minimum: 128\n",
      "Maximum: 191\n",
      "Total books sold in one week: 1107\n",
      "Average books sold in first five days: 153.8\n"
     ]
    }
   ],
   "source": [
    "hardcover_sales = [139, 128, 172, 139, 191, 168, 170]\n",
    "\n",
    "print(\"Length of the list:\", len(hardcover_sales))\n",
    "print(\"Entry at index 2:\", hardcover_sales[2])\n",
    "print(\"Minimum:\", min(hardcover_sales))\n",
    "print(\"Maximum:\", max(hardcover_sales))\n",
    "print(\"Total books sold in one week:\", sum(hardcover_sales))\n",
    "print(\"Average books sold in first five days:\", sum(hardcover_sales[:5])/5)"
   ]
  },
  {
   "cell_type": "code",
   "execution_count": null,
   "id": "eee471a7",
   "metadata": {},
   "outputs": [],
   "source": []
  }
 ],
 "metadata": {
  "kernelspec": {
   "display_name": "Python 3 (ipykernel)",
   "language": "python",
   "name": "python3"
  },
  "language_info": {
   "codemirror_mode": {
    "name": "ipython",
    "version": 3
   },
   "file_extension": ".py",
   "mimetype": "text/x-python",
   "name": "python",
   "nbconvert_exporter": "python",
   "pygments_lexer": "ipython3",
   "version": "3.9.13"
  }
 },
 "nbformat": 4,
 "nbformat_minor": 5
}
